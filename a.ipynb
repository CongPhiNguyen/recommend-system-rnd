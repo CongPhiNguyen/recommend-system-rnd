{
 "cells": [
  {
   "cell_type": "code",
   "execution_count": 13,
   "metadata": {},
   "outputs": [],
   "source": [
    "import math\n",
    "import matplotlib.pyplot as plt\n",
    "import numpy as np \n"
   ]
  },
  {
   "cell_type": "code",
   "execution_count": 8,
   "metadata": {},
   "outputs": [],
   "source": [
    "def computeYearSimilarity(year1, year2):\n",
    "  diff = abs(year1 - year2)\n",
    "  sim = math.exp(-diff/10.0)\n",
    "  return sim"
   ]
  },
  {
   "cell_type": "code",
   "execution_count": 10,
   "metadata": {},
   "outputs": [
    {
     "data": {
      "text/plain": [
       "0.8187307530779818"
      ]
     },
     "execution_count": 10,
     "metadata": {},
     "output_type": "execute_result"
    }
   ],
   "source": [
    "computeYearSimilarity(2021, 2023)"
   ]
  },
  {
   "cell_type": "code",
   "execution_count": null,
   "metadata": {},
   "outputs": [],
   "source": [
    "# Build up similarity scores between this item and everything the user rated\n",
    "neighbors = []\n",
    "for rating in self.trainset.ur[u]:\n",
    "genreSimilarity = self.similarities[i,rating[0]]\n",
    "neighbors.append( (genreSimilarity, rating[1]) )\n",
    "# Extract the top-K most-similar ratings\n",
    "k_neighbors = heapq.nlargest(self.k, neighbors, key=lambda t: t[0])\n",
    "# Compute average sim score of K neighbors weighted by user ratings\n",
    "simTotal = weightedSum = 0\n",
    "for (simScore, rating) in k_neighbors:\n",
    "if (simScore > 0):\n",
    "simTotal += simScore\n",
    "weightedSum += simScore * rating\n",
    "if (simTotal == 0):\n",
    "raise PredictionImpossible('No neighbors')\n",
    "predictedRating = weightedSum / simTotal\n",
    "return predictedRating\n"
   ]
  },
  {
   "cell_type": "code",
   "execution_count": null,
   "metadata": {},
   "outputs": [],
   "source": []
  },
  {
   "cell_type": "code",
   "execution_count": null,
   "metadata": {},
   "outputs": [],
   "source": []
  },
  {
   "cell_type": "code",
   "execution_count": null,
   "metadata": {},
   "outputs": [],
   "source": []
  },
  {
   "cell_type": "code",
   "execution_count": null,
   "metadata": {},
   "outputs": [],
   "source": []
  }
 ],
 "metadata": {
  "kernelspec": {
   "display_name": "base",
   "language": "python",
   "name": "python3"
  },
  "language_info": {
   "codemirror_mode": {
    "name": "ipython",
    "version": 3
   },
   "file_extension": ".py",
   "mimetype": "text/x-python",
   "name": "python",
   "nbconvert_exporter": "python",
   "pygments_lexer": "ipython3",
   "version": "3.9.13 (main, Aug 25 2022, 23:51:50) [MSC v.1916 64 bit (AMD64)]"
  },
  "orig_nbformat": 4,
  "vscode": {
   "interpreter": {
    "hash": "49180b783b83309466f04219c308d2cd78739e9d3600d9198242cf1d697c2f4c"
   }
  }
 },
 "nbformat": 4,
 "nbformat_minor": 2
}
